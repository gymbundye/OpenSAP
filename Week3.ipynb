{
 "cells": [
  {
   "cell_type": "code",
   "execution_count": 1,
   "metadata": {},
   "outputs": [
    {
     "name": "stdout",
     "output_type": "stream",
     "text": [
      "('jim', 'bundy', 'python')\n"
     ]
    }
   ],
   "source": [
    "# Week 3 Excercise 1 \n",
    "\n",
    "# Write a program that asks the user for given name,\n",
    "# surname and field of study for a student. \n",
    "# Store this data in a tuple and print the tuple. \n",
    "\n",
    "#get the input from user \n",
    "\n",
    "first_name = input (\"Enter First Name: \")\n",
    "last_name = input (\"Enter Last Name: \")\n",
    "field_of_study = input(\"Area of Study\")\n",
    "\n",
    "#create tuple\n",
    "\n",
    "student = (first_name, last_name, field_of_study)\n",
    "\n",
    "#print it\n",
    "\n",
    "print(student)"
   ]
  },
  {
   "cell_type": "code",
   "execution_count": 5,
   "metadata": {},
   "outputs": [
    {
     "name": "stdout",
     "output_type": "stream",
     "text": [
      "I 🤔 i am 🤩 but maybe i am 😠 and 💔\n"
     ]
    }
   ],
   "source": [
    "#Week 3 Excercise 2\n",
    "#Use this dictionary to build a program that:\n",
    "\n",
    "#Reads a sentence from the user.\n",
    "#Replaces all the words in the sentence with the corresponding Emoji.\n",
    "\n",
    "# imported dictionary of emojis\n",
    "\n",
    "emojis = {\n",
    "\"happy\": \"😃\",\n",
    "\"heart\": \"😍\",\n",
    "\"rotfl\": \"🤣\",\n",
    "\"smile\": \"😊\",\n",
    "\"crying\": \"😭\",\n",
    "\"kiss\": \"😘\",\n",
    "\"clap\": \"👏\",\n",
    "\"grin\": \"😁\",\n",
    "\"fire\": \"🔥\",\n",
    "\"broken\": \"💔\",\n",
    "\"think\": \"🤔\",\n",
    "\"excited\": \"🤩\",\n",
    "\"boring\": \"🙄\",\n",
    "\"winking\": \"😉\",\n",
    "\"ok\": \"👌\",\n",
    "\"hug\": \"🤗\",\n",
    "\"cool\": \"😎\",\n",
    "\"angry\": \"😠\",\n",
    "\"python\": \"🐍\"\n",
    "}  \n",
    "\n",
    "# Ask user for a sentence\n",
    "user_sentence = input(\"Type in a sentece: \")\n",
    "# split the words so as to compare\n",
    "words_of_sentence = user_sentence.split()\n",
    "#using the keys of the dictionary we compare the words replacing with a get and putting back with a join\n",
    "emoji_sentence = \" \".join(emojis.get(word.lower(), word) for word in words_of_sentence)\n",
    "\n",
    "print(emoji_sentence)\n",
    "\n",
    "\n",
    "\n"
   ]
  }
 ],
 "metadata": {
  "kernelspec": {
   "display_name": "Python 3",
   "language": "python",
   "name": "python3"
  },
  "language_info": {
   "codemirror_mode": {
    "name": "ipython",
    "version": 3
   },
   "file_extension": ".py",
   "mimetype": "text/x-python",
   "name": "python",
   "nbconvert_exporter": "python",
   "pygments_lexer": "ipython3",
   "version": "3.11.8"
  }
 },
 "nbformat": 4,
 "nbformat_minor": 2
}
