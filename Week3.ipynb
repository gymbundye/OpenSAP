{
 "cells": [
  {
   "cell_type": "code",
   "execution_count": 1,
   "metadata": {},
   "outputs": [
    {
     "name": "stdout",
     "output_type": "stream",
     "text": [
      "('jim', 'bundy', 'python')\n"
     ]
    }
   ],
   "source": [
    "# Week 3 Excercise 1 \n",
    "\n",
    "# Write a program that asks the user for given name,\n",
    "# surname and field of study for a student. \n",
    "# Store this data in a tuple and print the tuple. \n",
    "\n",
    "#get the input from user \n",
    "\n",
    "first_name = input (\"Enter First Name: \")\n",
    "last_name = input (\"Enter Last Name: \")\n",
    "field_of_study = input(\"Area of Study\")\n",
    "\n",
    "#create tuple\n",
    "\n",
    "student = (first_name, last_name, field_of_study)\n",
    "\n",
    "#print it\n",
    "\n",
    "print(student)"
   ]
  },
  {
   "cell_type": "code",
   "execution_count": 5,
   "metadata": {},
   "outputs": [
    {
     "name": "stdout",
     "output_type": "stream",
     "text": [
      "I 🤔 i am 🤩 but maybe i am 😠 and 💔\n"
     ]
    }
   ],
   "source": [
    "#Week 3 Excercise 2\n",
    "#Use this dictionary to build a program that:\n",
    "\n",
    "#Reads a sentence from the user.\n",
    "#Replaces all the words in the sentence with the corresponding Emoji.\n",
    "\n",
    "# imported dictionary of emojis\n",
    "\n",
    "emojis = {\n",
    "\"happy\": \"😃\",\n",
    "\"heart\": \"😍\",\n",
    "\"rotfl\": \"🤣\",\n",
    "\"smile\": \"😊\",\n",
    "\"crying\": \"😭\",\n",
    "\"kiss\": \"😘\",\n",
    "\"clap\": \"👏\",\n",
    "\"grin\": \"😁\",\n",
    "\"fire\": \"🔥\",\n",
    "\"broken\": \"💔\",\n",
    "\"think\": \"🤔\",\n",
    "\"excited\": \"🤩\",\n",
    "\"boring\": \"🙄\",\n",
    "\"winking\": \"😉\",\n",
    "\"ok\": \"👌\",\n",
    "\"hug\": \"🤗\",\n",
    "\"cool\": \"😎\",\n",
    "\"angry\": \"😠\",\n",
    "\"python\": \"🐍\"\n",
    "}  \n",
    "\n",
    "# Ask user for a sentence\n",
    "user_sentence = input(\"Type in a sentece: \")\n",
    "# split the words so as to compare\n",
    "words_of_sentence = user_sentence.split()\n",
    "#using the keys of the dictionary we compare the words replacing with a get and putting back with a join\n",
    "emoji_sentence = \" \".join(emojis.get(word.lower(), word) for word in words_of_sentence)\n",
    "\n",
    "print(emoji_sentence)\n",
    "\n",
    "\n",
    "\n"
   ]
  },
  {
   "cell_type": "code",
   "execution_count": 8,
   "metadata": {},
   "outputs": [
    {
     "name": "stdout",
     "output_type": "stream",
     "text": [
      "Normal sentence:  my name is slim shady\n",
      "\n",
      "Ciphered sentence:  rd sfrj nx xqnr xmfid\n"
     ]
    }
   ],
   "source": [
    "#Week 3 Excercise 3\n",
    "#Your task for the assignment is to implement a Caesar cipher with a shift of 5. \n",
    "#The program should ask the user for a plain text sentence and print the encrypted text.\n",
    "\n",
    "\n",
    "#create dictionary for our cypher\n",
    "caesar_cipher = {\n",
    "    'a': 'f', 'b': 'g', 'c': 'h', 'd': 'i', 'e': 'j',\n",
    "    'f': 'k', 'g': 'l', 'h': 'm', 'i': 'n', 'j': 'o',\n",
    "    'k': 'p', 'l': 'q', 'm': 'r', 'n': 's', 'o': 't',\n",
    "    'p': 'u', 'q': 'v', 'r': 'w', 's': 'x', 't': 'y',\n",
    "    'u': 'z', 'v': 'a', 'w': 'b', 'x': 'c', 'y': 'd',\n",
    "    'z': 'e'\n",
    "}\n",
    "\n",
    "#get the user input\n",
    "normal_sentence = input(\"Enter your message:  \")\n",
    "#convert sentence to deal with capitals\n",
    "normal_sentence = normal_sentence.lower()\n",
    "#do the conversion\n",
    "cipher_sentence = ''\n",
    "for char in normal_sentence:\n",
    "    if char.isalpha():\n",
    "        cipher_sentence += caesar_cipher[char]\n",
    "    else:\n",
    "        cipher_sentence += char\n",
    "#print results\n",
    "print(\"Normal sentence: \", normal_sentence)\n",
    "print()\n",
    "print(\"Ciphered sentence: \", cipher_sentence)\n"
   ]
  },
  {
   "cell_type": "code",
   "execution_count": 2,
   "metadata": {},
   "outputs": [
    {
     "name": "stdout",
     "output_type": "stream",
     "text": [
      "hi there dude\n",
      "\n",
      "no znkxk jajk\n"
     ]
    }
   ],
   "source": [
    "#Week 3 Bonus\n",
    "\n",
    "#Your task for the bonus exercise is the implementation of a Caesar cipher with a variable shift. \n",
    "#The program should ask the user for a number of characters for the shift first. \n",
    "#Next the program should ask the user for a plain text sentence and print the encrypted text.\n",
    "\n",
    "#Ask for the shift number \n",
    "shift = int(input(\"How many would you like to shift? \"))\n",
    "\n",
    "#Get the sentence\n",
    "user_sentence = input(\"What is your sentence? \")\n",
    "user_sentence = user_sentence.lower()\n",
    "\n",
    "# do the conversion\n",
    "encrypted_sentence = \"\"\n",
    "for char in user_sentence:\n",
    "    if char.isalpha():\n",
    "        ascii_offset = ord('a')\n",
    "        shifted_char = chr((ord(char) - ascii_offset + shift) % 26 + ascii_offset)\n",
    "        encrypted_sentence += shifted_char\n",
    "    else:\n",
    "        encrypted_sentence += char\n",
    "print(user_sentence)\n",
    "print()\n",
    "print(encrypted_sentence)\n"
   ]
  }
 ],
 "metadata": {
  "kernelspec": {
   "display_name": "Python 3",
   "language": "python",
   "name": "python3"
  },
  "language_info": {
   "codemirror_mode": {
    "name": "ipython",
    "version": 3
   },
   "file_extension": ".py",
   "mimetype": "text/x-python",
   "name": "python",
   "nbconvert_exporter": "python",
   "pygments_lexer": "ipython3",
   "version": "3.11.8"
  }
 },
 "nbformat": 4,
 "nbformat_minor": 2
}
