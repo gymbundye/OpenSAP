{
 "cells": [
  {
   "cell_type": "code",
   "execution_count": 5,
   "metadata": {},
   "outputs": [
    {
     "name": "stdout",
     "output_type": "stream",
     "text": [
      "The title of the film is: The Rise of Skywalker\n"
     ]
    }
   ],
   "source": [
    "#Week 2 Excercise 1\n",
    "#Write a program that asks the user for a number of the trilogy (1, 2 or 3)\n",
    "# and the number of the film in this trilogy (1, 2 or 3). \n",
    "#Print the title of the film corresponding to the user selection.\n",
    "\n",
    "star_wars_movies = [  \n",
    "[\"The Phantom Menace\", \"Attack of the Clones\", \"Revenge of the Sith\"],  \n",
    "[\"A New Hope\", \"The Empire Strikes Back\", \"Return of the Jedi\"],   \n",
    "[\"The Force Awakens\", \"The Last Jedi\", \"The Rise of Skywalker\"],\n",
    "]\n",
    "trilogy = int(input(\"Enter the trilogy number (1, 2, or 3): \"))\n",
    "film = int(input(\"Enter the film number (1, 2, or 3): \"))\n",
    "\n",
    "if 1 <= trilogy <= 3 and 1 <= film <= 3:\n",
    "    title = star_wars_movies[trilogy - 1][film - 1]\n",
    "    if title == \"The Phantom Menace\":\n",
    "        print(\"Phantom Menance! Don't waste your time!\")\n",
    "    else:\n",
    "        print(f\"The title of the film is: {title}\")\n",
    "else:\n",
    "    print(\"Invalid input. Please enter numbers between 1 and 3.\")"
   ]
  },
  {
   "cell_type": "code",
   "execution_count": 11,
   "metadata": {},
   "outputs": [
    {
     "name": "stdout",
     "output_type": "stream",
     "text": [
      "['TSLA', 'ZM']\n"
     ]
    }
   ],
   "source": [
    "#Week 2 \n",
    "#write a program that creates a list of all the stock symbols with\n",
    "# a change of more than +5 percent. The list should be named sell_list. \n",
    "#The list should only contain the stock symbol, not the price or the absolute change. \n",
    "#Print the resulting list.\n",
    "\n",
    "stocks = [[\"SAP\", 106, -3.0], \n",
    "          [\"AAPL\", 165, 1.25], \n",
    "          [\"TSLA\", 860, 54.2], \n",
    "          [\"ORCL\", 76, -0.25], \n",
    "          [\"ZM\", 114, 6.2]]\n",
    "\n",
    "sell_list = []\n",
    "\n",
    "for stock in stocks:\n",
    "    if stock[2] > 5:\n",
    "        sell_list.append(stock[0])\n",
    "print (sell_list)"
   ]
  }
 ],
 "metadata": {
  "kernelspec": {
   "display_name": "Python 3",
   "language": "python",
   "name": "python3"
  },
  "language_info": {
   "codemirror_mode": {
    "name": "ipython",
    "version": 3
   },
   "file_extension": ".py",
   "mimetype": "text/x-python",
   "name": "python",
   "nbconvert_exporter": "python",
   "pygments_lexer": "ipython3",
   "version": "3.11.8"
  }
 },
 "nbformat": 4,
 "nbformat_minor": 2
}
