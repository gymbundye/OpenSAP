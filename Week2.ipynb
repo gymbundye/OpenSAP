{
 "cells": [
  {
   "cell_type": "code",
   "execution_count": 2,
   "metadata": {},
   "outputs": [
    {
     "name": "stdout",
     "output_type": "stream",
     "text": [
      "The title of the film is: The Empire Strikes Back\n"
     ]
    }
   ],
   "source": [
    "#Week 2 Excercise 1\n",
    "#Write a program that asks the user for a number of the trilogy (1, 2 or 3)\n",
    "# and the number of the film in this trilogy (1, 2 or 3). \n",
    "#Print the title of the film corresponding to the user selection.\n",
    "\n",
    "#Create the dictionary of the Star Wars Movies\n",
    "star_wars_movies = [  \n",
    "[\"The Phantom Menace\", \"Attack of the Clones\", \"Revenge of the Sith\"],  \n",
    "[\"A New Hope\", \"The Empire Strikes Back\", \"Return of the Jedi\"],   \n",
    "[\"The Force Awakens\", \"The Last Jedi\", \"The Rise of Skywalker\"],\n",
    "]\n",
    "#Create variables to hold the input\n",
    "trilogy = int(input(\"Enter the trilogy number (1, 2, or 3): \"))\n",
    "film = int(input(\"Enter the film number (1, 2, or 3): \"))\n",
    "\n",
    "#checks for valid input and then uses the -1 index to choose the right movie\n",
    "if 1 <= trilogy <= 3 and 1 <= film <= 3:\n",
    "    title = star_wars_movies[trilogy - 1][film - 1]\n",
    "#Phantom Menace Sucks\n",
    "    if title == \"The Phantom Menace\":\n",
    "        print(\"Phantom Menance! Don't waste your time!\")\n",
    "    else:\n",
    "        print(f\"The title of the film is: {title}\")\n",
    "else:\n",
    "    print(\"Invalid input. Please enter numbers between 1 and 3.\")"
   ]
  },
  {
   "cell_type": "code",
   "execution_count": 3,
   "metadata": {},
   "outputs": [
    {
     "name": "stdout",
     "output_type": "stream",
     "text": [
      "['TSLA', 'ZM']\n"
     ]
    }
   ],
   "source": [
    "#Week 2 Excercise 2\n",
    "#write a program that creates a list of all the stock symbols with\n",
    "# a change of more than +5 percent. The list should be named sell_list. \n",
    "#The list should only contain the stock symbol, not the price or the absolute change. \n",
    "#Print the resulting list.\n",
    "\n",
    "#Create a list of stocks\n",
    "\n",
    "stocks = [[\"SAP\", 106, -3.0], \n",
    "          [\"AAPL\", 165, 1.25], \n",
    "          [\"TSLA\", 860, 54.2], \n",
    "          [\"ORCL\", 76, -0.25], \n",
    "          [\"ZM\", 114, 6.2]]\n",
    "\n",
    "#Create A variable to hold what was sold\n",
    "sell_list = []\n",
    "\n",
    "#go over the stocks and put the change into sell list\n",
    "for stock in stocks:\n",
    "    if stock[2] > 5:\n",
    "        sell_list.append(stock[0])\n",
    "print (sell_list)"
   ]
  },
  {
   "cell_type": "code",
   "execution_count": 4,
   "metadata": {},
   "outputs": [
    {
     "name": "stdout",
     "output_type": "stream",
     "text": [
      "Enter elements for row 1:\n",
      "Enter elements for row 2:\n",
      "Enter elements for row 3:\n",
      "Enter elements for row 4:\n",
      "Enter elements for row 5:\n",
      "\n",
      "Here is your Matrix: \n",
      "[5, 4, 3, 2]\n",
      "[2, 3, 4, 5]\n",
      "[6, 6, 6, 5]\n",
      "[4, 4, 5, 6]\n",
      "[7, 7, 7, 7]\n",
      "\n",
      "Sum of each row:\n",
      "Sum of row 1: 14\n",
      "Sum of row 2: 14\n",
      "Sum of row 3: 23\n",
      "Sum of row 4: 19\n",
      "Sum of row 5: 28\n"
     ]
    }
   ],
   "source": [
    "#Week 2 Excercise 3\n",
    "\n",
    "#Write a program that lets the user input a two-dimensional matrix\n",
    "#(Hint: you could use a list of lists to store the matrix). \n",
    "#The program should first ask the user how many rows and columns the matrix should contain. \n",
    "#Next, the program should ask the user for the elements of the matrix. \n",
    "#Your program should read the values from the user row by row. \n",
    "\n",
    "#If, for example, the matrix has the dimension 2 by 3, the values should be read as follows:\n",
    "\n",
    "#First row, first value\n",
    "#First row, second value\n",
    "#First row, third value\n",
    "#Second row, first value\n",
    "#Second row, second value\n",
    "#Second row, third value\n",
    "\n",
    "# Finally, the program should calculate and print the sums of the values in each row\n",
    "\n",
    "#accept input for the rows and the columns\n",
    "rows = int(input(\"Enter how many rows: \"))\n",
    "columns = int(input(\"Enter how many columns:  \"))\n",
    "\n",
    "#create an empty matrix\n",
    "matrix = []\n",
    "#fill it with the input\n",
    "for i in range(rows):\n",
    "        row = []\n",
    "        print(f\"Enter elements for row {i+1}:\")\n",
    "        for j in range(columns):\n",
    "            element = int(input(f\"Enter element {j+1}: \"))\n",
    "            row.append(element)\n",
    "        matrix.append(row)\n",
    "\n",
    "#print out the input on seperate lines\n",
    "print(\"\\nHere is your Matrix: \")\n",
    "for row in matrix:\n",
    " print(row)\n",
    "\n",
    "print(\"\\nSum of each row:\")\n",
    "#go over each row\n",
    "for row in matrix:\n",
    "#used built in sum function and store to a variable\n",
    "    row_sum = sum(row)\n",
    "#this  prints each rows out\n",
    "    print(f\"Sum of row {matrix.index(row) + 1}: {row_sum}\")\n",
    "     "
   ]
  },
  {
   "cell_type": "code",
   "execution_count": 27,
   "metadata": {},
   "outputs": [
    {
     "name": "stdout",
     "output_type": "stream",
     "text": [
      "Product Name: windows\n",
      "In Stock: 45\n",
      "Months: 3\n",
      "Sales Anticipated: 12\n",
      "We need to produce: 12\n",
      "\n",
      "Product Name: doors\n",
      "In Stock: 456\n",
      "Months: 12\n",
      "Sales Anticipated: 34\n",
      "We need to produce: 0\n",
      "\n"
     ]
    }
   ],
   "source": [
    "#Week 2 Excercise 4\n",
    "#In this exercise you are going to simulate a sales\n",
    "#and operations planning using the zero stock level strategy. \n",
    "#Write a Python program that asks the user to enter the following data:\n",
    "\n",
    "#An initial stock level for a product\n",
    "#The number of month(s) to plan\n",
    "#The planned sales quantity for each month\n",
    "#Based on this data, calculate the required production \n",
    "#quantity as follows:\n",
    "\n",
    "#If the sales quantity is smaller than the stock level of the\n",
    "# previous month, the production quantity is 0\n",
    "\n",
    "#If the sales quantity is larger than the stock level of the \n",
    "# previous month, the production quantity is this difference\n",
    "\n",
    "#create an empty variable for product and the stock\n",
    "products = []\n",
    "previous_stock = 0\n",
    "\n",
    "#get product info using while loop\n",
    "while True:\n",
    "    product_name = input(\"Enter Product Name (or type 'done' to finish): \")\n",
    "    if product_name.lower() == 'done':\n",
    "        break\n",
    "\n",
    "    in_stock = int(input(\"How many are in stock: \"))\n",
    "    months = int(input(\"Months: \"))\n",
    "    sales = int(input(\"How many sales are anticipated: \"))\n",
    "    \n",
    "    #compare sales to stock\n",
    "    if sales < previous_stock:\n",
    "        production = 0\n",
    "    else:\n",
    "        production = sales - previous_stock\n",
    "#defines the product\n",
    "\n",
    "    product = {\n",
    "        'name': product_name,\n",
    "        'in_stock': in_stock,\n",
    "        'months': months,\n",
    "        'sales': sales,\n",
    "        'production': production\n",
    "    }\n",
    "  #adds product to dictionanry  \n",
    "    products.append(product)\n",
    "#upates the stock variable\n",
    "    previous_stock = in_stock\n",
    "\n",
    "for product in products:\n",
    "    print(f\"Product Name: {product['name']}\")\n",
    "    print(f\"In Stock: {product['in_stock']}\")\n",
    "    print(f\"Months: {product['months']}\")\n",
    "    print(f\"Sales Anticipated: {product['sales']}\")\n",
    "    print(f\"We need to produce: {product['production']}\")\n",
    "    print()\n",
    "\n"
   ]
  },
  {
   "cell_type": "code",
   "execution_count": null,
   "metadata": {},
   "outputs": [],
   "source": []
  }
 ],
 "metadata": {
  "kernelspec": {
   "display_name": "Python 3",
   "language": "python",
   "name": "python3"
  },
  "language_info": {
   "codemirror_mode": {
    "name": "ipython",
    "version": 3
   },
   "file_extension": ".py",
   "mimetype": "text/x-python",
   "name": "python",
   "nbconvert_exporter": "python",
   "pygments_lexer": "ipython3",
   "version": "3.11.8"
  }
 },
 "nbformat": 4,
 "nbformat_minor": 2
}
