{
 "cells": [
  {
   "cell_type": "code",
   "execution_count": 7,
   "metadata": {},
   "outputs": [
    {
     "name": "stdout",
     "output_type": "stream",
     "text": [
      "Mean: 100.02848599508661\n",
      "Standard Deviation: 9.953349548211659\n"
     ]
    }
   ],
   "source": [
    "# Week 6 excercise 1\n",
    "#Import the random library and have a look at the function gauss() \n",
    "#which gives back a random float number. Which parameters are required? \n",
    "#Write a function gaussian_distribution() that returns a list of 1000 random numbers with a mean of 100 and a \n",
    "#standard deviation of 10. Invoke this function.\n",
    "\n",
    "#For the resulting list calculate and print the mean and the standard deviation using the \n",
    "#respective functions from the statistics library. Re-run the program and observe, if the values change.\n",
    " \n",
    "# bring in the libraries\n",
    "import random\n",
    "import statistics\n",
    "\n",
    "\n",
    "def gaussian_distribution(mean, std_dev, size):\n",
    "    return [random.gauss(mean, std_dev) for _ in range(size)]\n",
    "\n",
    "data = gaussian_distribution(100, 10, 1000)\n",
    "mean = statistics.mean(data)\n",
    "std_dev = statistics.stdev(data)\n",
    "\n",
    "print(\"Mean:\", mean)\n",
    "print(\"Standard Deviation:\", std_dev)\n"
   ]
  },
  {
   "cell_type": "code",
   "execution_count": 10,
   "metadata": {},
   "outputs": [
    {
     "name": "stdout",
     "output_type": "stream",
     "text": [
      "Sudoku Puzzle:\n",
      "+-------+-------+-------+\n",
      "| 1     |       |       |\n",
      "|       |       |     9 |\n",
      "|       |   5   |       |\n",
      "+-------+-------+-------+\n",
      "|   2   |       |       |\n",
      "|     3 |       |       |\n",
      "|       |       | 7     |\n",
      "+-------+-------+-------+\n",
      "|       |     6 |       |\n",
      "|       | 4     |       |\n",
      "|       |       |   8   |\n",
      "+-------+-------+-------+\n",
      "\n",
      "\n",
      "Solution:\n",
      "+-------+-------+-------+\n",
      "| 1 3 5 | 7 8 9 | 4 2 6 |\n",
      "| 2 7 4 | 3 6 1 | 8 5 9 |\n",
      "| 9 8 6 | 2 5 4 | 1 3 7 |\n",
      "+-------+-------+-------+\n",
      "| 5 2 7 | 6 4 3 | 9 1 8 |\n",
      "| 6 9 3 | 1 7 8 | 5 4 2 |\n",
      "| 4 1 8 | 9 2 5 | 7 6 3 |\n",
      "+-------+-------+-------+\n",
      "| 7 4 2 | 8 1 6 | 3 9 5 |\n",
      "| 8 5 9 | 4 3 2 | 6 7 1 |\n",
      "| 3 6 1 | 5 9 7 | 2 8 4 |\n",
      "+-------+-------+-------+\n",
      "\n"
     ]
    }
   ],
   "source": [
    "#Week 6 excercise 2\n",
    "\n",
    "#The non-standard library py-sudoku offers the possibility to create your own sudokus.\n",
    "#Follow the above link and have a look how to install and use the library. \n",
    "#Install the library and create a new sudoku with a difficulty of 0.7.\n",
    "\n",
    "#Display the sudoku and the solution of the sudoku.\n",
    "\n",
    "import sudoku\n",
    "\n",
    "# Create a new Sudoku puzzle\n",
    "puzzle = sudoku.Sudoku(difficulty=0.7)\n",
    "\n",
    "# Display the puzzle\n",
    "print(\"Sudoku Puzzle:\")\n",
    "puzzle.show()\n",
    "\n",
    "# Solve the puzzle\n",
    "solution = puzzle.solve()\n",
    "\n",
    "# Display the solution\n",
    "print(\"\\nSolution:\")\n",
    "solution.show()\n",
    "\n"
   ]
  },
  {
   "cell_type": "code",
   "execution_count": null,
   "metadata": {},
   "outputs": [],
   "source": [
    "#Week 6 excersise 3"
   ]
  }
 ],
 "metadata": {
  "kernelspec": {
   "display_name": "Python 3",
   "language": "python",
   "name": "python3"
  },
  "language_info": {
   "codemirror_mode": {
    "name": "ipython",
    "version": 3
   },
   "file_extension": ".py",
   "mimetype": "text/x-python",
   "name": "python",
   "nbconvert_exporter": "python",
   "pygments_lexer": "ipython3",
   "version": "3.11.8"
  }
 },
 "nbformat": 4,
 "nbformat_minor": 2
}
