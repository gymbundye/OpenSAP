{
 "cells": [
  {
   "cell_type": "code",
   "execution_count": 9,
   "metadata": {},
   "outputs": [
    {
     "name": "stdout",
     "output_type": "stream",
     "text": [
      "Jim wants to travel from Texas to France by Train.\n"
     ]
    }
   ],
   "source": [
    "#Week 1 Excercise 1\n",
    "#Write a Python program that asks the user to enter:\n",
    "\n",
    "#A name\n",
    "# start city\n",
    "#A destination city and\n",
    "#A means of transportation\n",
    "#The program should then print that the name wants to travel from start to destination by means of transportation.\n",
    "\n",
    "#Take input\n",
    "name = input(\"Enter your Name: \")\n",
    "start = input(\"Starting point: \")\n",
    "vehicle = input(\"What means of transportation: \")\n",
    "end = input(\"Where are you going: \")\n",
    "\n",
    "#Assign to a variabe to print I used an f string\n",
    "sentence = f\"{name} wants to travel from {start} to {end} by {vehicle}.\"\n",
    "print(sentence)\n"
   ]
  },
  {
   "cell_type": "code",
   "execution_count": 14,
   "metadata": {},
   "outputs": [
    {
     "name": "stdout",
     "output_type": "stream",
     "text": [
      "4\n"
     ]
    }
   ],
   "source": [
    "#Week 1 Excercise 2\n",
    "#Write a Python program that asks the user to enter three integer numbers. The program should output the largest of the three numbers.\n",
    "\n",
    "#Take user input\n",
    "num1 = int(input(\"Enter Number 1: \"))\n",
    "num2 = int(input(\"Enter Number 2: \"))\n",
    "num3 = int(input(\"Enter Number 3: \"))\n",
    "\n",
    "#check number size\n",
    "if num1 > num2 and num1 > num3:\n",
    "    print(num1)\n",
    "elif num2 > num1 and num2 > num3:\n",
    "    print(num2)\n",
    "else:\n",
    "    print(num3)"
   ]
  },
  {
   "cell_type": "code",
   "execution_count": 28,
   "metadata": {},
   "outputs": [
    {
     "name": "stdout",
     "output_type": "stream",
     "text": [
      "The triangle is a right triangle.\n"
     ]
    }
   ],
   "source": [
    "# Week 1 Excercise 3\n",
    "\n",
    "# Triangles can be classified based on their angles.\n",
    "\n",
    "# A right triangle has one angle of 90°\n",
    "# A obtuse triangle has one angle of more than 90°\n",
    "# A triangle is acute if all three angles are less than 90°\n",
    "# Write a program that asks the user for the values of three angles in degrees. \n",
    "# First check if the entered values are valid. The values are only valid if they are >0 and if their sum is 180°. \n",
    "# If the entered values are valid, classify the triangle as right, acute or obtuse.\n",
    "\n",
    "#Take user input\n",
    "angle1 = float(input(\"Enter First Angle: \"))\n",
    "angle2 = float(input(\"Enter Second Angle: \"))\n",
    "angle3 = float(input(\"Enter Third Angle: \"))\n",
    "\n",
    "#Check that the angles are actually valid for triangles. Must = 180\n",
    "if angle1 <= 0 or angle2 <= 0 or  angle3 <= 0 or angle1 + angle2 + angle3 != 180:\n",
    "        print(\"Invalid Input for Triangles:\")\n",
    "# Must have a 90 angle to be right\n",
    "elif angle1 == 90 or angle2 == 90 or angle3 == 90:\n",
    "        print(\"The triangle is a right triangle.\")\n",
    "# If all below 90 it is acute        \n",
    "elif angle1 < 90 and angle2 < 90 and angle3 < 90:\n",
    "        print(\"The triangle is an acute triangle.\")\n",
    "#otherwise it obtuse\n",
    "else:\n",
    "        print(\"The triangle is an obtuse triangle.\")\n"
   ]
  },
  {
   "cell_type": "code",
   "execution_count": 2,
   "metadata": {},
   "outputs": [
    {
     "name": "stdout",
     "output_type": "stream",
     "text": [
      "The quadratic equation has 2 solutions.\n"
     ]
    }
   ],
   "source": [
    "# Week 1 BONUS\n",
    "\n",
    "#Write a program that asks the user for the numbers a, b and c. \n",
    "#The program should then print out how many solutions the quadratic equation has.\n",
    "\n",
    "#get input from user\n",
    "a = float(input(\"Enter Number A: \"))\n",
    "b = float(input(\"Enter Number B: \"))\n",
    "c = float(input(\"Enter Number C: \"))\n",
    "\n",
    "#formula for discriminant\n",
    "discriminant = b**2 - 4*a*c\n",
    "\n",
    "if discriminant > 0:\n",
    "    print(\"The quadratic equation has 2 solutions.\")\n",
    "elif discriminant == 0:\n",
    "    print(\"The quadratic equation has 1 solution.\")\n",
    "else:\n",
    "    print(\"The quadratic equation has 0 solutions.\")"
   ]
  }
 ],
 "metadata": {
  "kernelspec": {
   "display_name": "Python 3",
   "language": "python",
   "name": "python3"
  },
  "language_info": {
   "codemirror_mode": {
    "name": "ipython",
    "version": 3
   },
   "file_extension": ".py",
   "mimetype": "text/x-python",
   "name": "python",
   "nbconvert_exporter": "python",
   "pygments_lexer": "ipython3",
   "version": "3.11.8"
  }
 },
 "nbformat": 4,
 "nbformat_minor": 2
}
