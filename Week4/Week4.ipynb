{
 "cells": [
  {
   "cell_type": "code",
   "execution_count": 1,
   "metadata": {},
   "outputs": [
    {
     "name": "stdout",
     "output_type": "stream",
     "text": [
      "9115\n",
      "9006\n",
      "8910\n"
     ]
    }
   ],
   "source": [
    "#week 4 excercise 1\n",
    "#The file numbers.txt contains random integer numbers. \n",
    "#There is exactly one number per line. \n",
    "#Read the file and output the three biggest numbers in the following form:\n",
    "\n",
    "#2345\n",
    "#223\n",
    "#89\n",
    "\n",
    "# create a list for the numbers\n",
    "\n",
    "numbers = []\n",
    "\n",
    "# this opens the file to read and strips the lines\n",
    "\n",
    "with open( 'numbers.txt', 'r') as file:\n",
    "    for line in file:\n",
    "        number = int(line.strip())\n",
    "        numbers.append(number)\n",
    "\n",
    "#Then they want it in descending order\n",
    "#we can use .sort and set it to reverse = true\n",
    "        \n",
    "numbers.sort(reverse=True)\n",
    "\n",
    "#and then set a range to find the three largest\n",
    "\n",
    "for num in range(3):\n",
    "    print(numbers[num])"
   ]
  }
 ],
 "metadata": {
  "kernelspec": {
   "display_name": "Python 3",
   "language": "python",
   "name": "python3"
  },
  "language_info": {
   "codemirror_mode": {
    "name": "ipython",
    "version": 3
   },
   "file_extension": ".py",
   "mimetype": "text/x-python",
   "name": "python",
   "nbconvert_exporter": "python",
   "pygments_lexer": "ipython3",
   "version": "3.11.8"
  }
 },
 "nbformat": 4,
 "nbformat_minor": 2
}
