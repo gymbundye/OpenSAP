{
 "cells": [
  {
   "cell_type": "code",
   "execution_count": 1,
   "metadata": {},
   "outputs": [
    {
     "name": "stdout",
     "output_type": "stream",
     "text": [
      "9115\n",
      "9006\n",
      "8910\n"
     ]
    }
   ],
   "source": [
    "#week 4 excercise 1\n",
    "#The file numbers.txt contains random integer numbers. \n",
    "#There is exactly one number per line. \n",
    "#Read the file and output the three biggest numbers in the following form:\n",
    "\n",
    "#2345\n",
    "#223\n",
    "#89\n",
    "\n",
    "# create a list for the numbers\n",
    "\n",
    "numbers = []\n",
    "\n",
    "# this opens the file to read and strips the lines\n",
    "\n",
    "with open( 'numbers.txt', 'r') as file:\n",
    "    for line in file:\n",
    "        number = int(line.strip())\n",
    "        numbers.append(number)\n",
    "\n",
    "#Then they want it in descending order\n",
    "#we can use .sort and set it to reverse = true\n",
    "        \n",
    "numbers.sort(reverse=True)\n",
    "\n",
    "#and then set a range to find the three largest\n",
    "\n",
    "for num in range(3):\n",
    "    print(numbers[num])"
   ]
  },
  {
   "cell_type": "code",
   "execution_count": 3,
   "metadata": {},
   "outputs": [
    {
     "name": "stdout",
     "output_type": "stream",
     "text": [
      "List of even numbers created!\n",
      "List of odd numbers created\n",
      "Check Week 4 folder if you want to see them!\n"
     ]
    }
   ],
   "source": [
    "#Week 4 Excercise 2\n",
    "\n",
    "#The file numbers.txt contains numbers. (Actually, the same numbers from the last exercise.) \n",
    "#There is exactly one number per line. Read the numbers from the file and write only the even numbers\n",
    "# into a new file named even_numbers.txt. Again, there should be one number per line. \n",
    "#The order of the numbers shall be unchanged. To indicate that the program is finished, \n",
    "#print the following output: “List of even numbers created!”\n",
    "\n",
    "# Read All The numbers and put them in a list of ints with no white space\n",
    "\n",
    "with open ('numbers.txt', 'r') as file:\n",
    "    numbers = [int(line.strip()) for line in file]\n",
    "\n",
    "#write to a new file and check for even\n",
    "\n",
    "with open('even_numbers.txt', 'w') as file:\n",
    "    for num in numbers:\n",
    "        if  num % 2 ==0:\n",
    "            file.write(str(num) + '\\n')\n",
    "            \n",
    "#Im doing the odds just for fun\n",
    "with open('odd_numbers.txt', 'w') as file:\n",
    "    for num in numbers:\n",
    "        if num % 2 !=0:\n",
    "            file.write(str(num)+ '\\n')\n",
    "\n",
    "# print message \n",
    "print(\"List of even numbers created!\")\n",
    "print(\"List of odd numbers created!\")\n",
    "print(\"Check Week 4 folder if you want to see them!\")\n",
    "\n"
   ]
  },
  {
   "cell_type": "code",
   "execution_count": 15,
   "metadata": {},
   "outputs": [
    {
     "name": "stdout",
     "output_type": "stream",
     "text": [
      "Chair           Amount:  3  Price: $ 29.990  Total: $   89.97\n",
      "Table           Amount:  1  Price: $299.000  Total: $  299.00\n",
      "Sideboard       Amount:  2  Price: $349.000  Total: $  698.00\n",
      "Shelf           Amount: 40  Price: $ 90.000  Total: $ 3600.00\n"
     ]
    }
   ],
   "source": [
    "#Week 4 Excercise 3\n",
    "\n",
    "\n",
    "#The file invoice_data.txt contains raw data for an invoice. More precisely, each line contains\n",
    "\n",
    "#the name of an item\n",
    "#how many items are bought\n",
    "#the unit price of the item\n",
    "#The three values are separated by a single whitespace. Prepare a beautified output of the file which contains\n",
    "\n",
    "#the name of the item formatted with 15 characters\n",
    "#the number of units with 3 digits\n",
    "#the price per item with 7 digits, 3 digits after the decimal point\n",
    "#the total price (number of items * price per item) with 8 digits in total, 2 digits after the decimal point\n",
    "#If there are two lines with the following content “Apple 5 0.99” and “Cherry 2 11.99”, then the beautified output should look as follows:\n",
    "\n",
    "#Apple           15   0.99   14.85\n",
    "#Cherry           2  11.99   23.98\n",
    "\n",
    "#read the data from the invoice\n",
    "with open('invoice_data.txt', 'r') as file:\n",
    "    lines = file.readlines()\n",
    "#loops over the lines and takes out the white spaces\n",
    "for line in lines:\n",
    "    product_data = line.split()\n",
    "#ssigns the product data to its type and location    \n",
    "    item_name = product_data[0]\n",
    "    amount = int(product_data[1])\n",
    "    price = float(product_data[2])\n",
    "#does the calculation\n",
    "    total_price = amount * price\n",
    "#prints output in the formated way (I added descriptors just cuz i like it that way)\n",
    "    print(\n",
    "        f\"{item_name:15s} Amount:{amount:3d}  Price: ${price:7.3f}  Total: ${total_price:8.2f}\"\n",
    "    )\n",
    "\n",
    "\n",
    "\n"
   ]
  }
 ],
 "metadata": {
  "kernelspec": {
   "display_name": "Python 3",
   "language": "python",
   "name": "python3"
  },
  "language_info": {
   "codemirror_mode": {
    "name": "ipython",
    "version": 3
   },
   "file_extension": ".py",
   "mimetype": "text/x-python",
   "name": "python",
   "nbconvert_exporter": "python",
   "pygments_lexer": "ipython3",
   "version": "3.11.8"
  }
 },
 "nbformat": 4,
 "nbformat_minor": 2
}
