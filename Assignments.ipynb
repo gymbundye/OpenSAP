{
 "cells": [
  {
   "cell_type": "code",
   "execution_count": 9,
   "metadata": {},
   "outputs": [
    {
     "name": "stdout",
     "output_type": "stream",
     "text": [
      "Jim wants to travel from Texas to France by Train.\n"
     ]
    }
   ],
   "source": [
    "#Week 1 Excercise \n",
    "#Write a Python program that asks the user to enter:\n",
    "\n",
    "#A name\n",
    "# start city\n",
    "#A destination city and\n",
    "#A means of transportation\n",
    "#The program should then print that the name wants to travel from start to destination by means of transportation.\n",
    "\n",
    "name = input(\"Enter your Name: \")\n",
    "start = input(\"Starting point: \")\n",
    "vehicle = input(\"What means of transportation: \")\n",
    "end = input(\"Where are you going: \")\n",
    "\n",
    "sentence = f\"{name} wants to travel from {start} to {end} by {vehicle}.\"\n",
    "print(sentence)\n"
   ]
  }
 ],
 "metadata": {
  "kernelspec": {
   "display_name": "Python 3",
   "language": "python",
   "name": "python3"
  },
  "language_info": {
   "codemirror_mode": {
    "name": "ipython",
    "version": 3
   },
   "file_extension": ".py",
   "mimetype": "text/x-python",
   "name": "python",
   "nbconvert_exporter": "python",
   "pygments_lexer": "ipython3",
   "version": "3.11.8"
  }
 },
 "nbformat": 4,
 "nbformat_minor": 2
}
